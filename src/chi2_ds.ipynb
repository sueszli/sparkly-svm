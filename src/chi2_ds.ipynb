{
 "cells": [
  {
   "cell_type": "code",
   "execution_count": 14,
   "metadata": {},
   "outputs": [],
   "source": [
    "from pyspark import SparkContext, SparkConf\n",
    "from pyspark.sql import SparkSession\n",
    "from pyspark.ml.feature import RegexTokenizer, StopWordsRemover, IDF, StringIndexer, ChiSqSelector, CountVectorizer, CountVectorizerModel\n",
    "from pyspark.ml import Pipeline\n",
    "import pathlib\n",
    "\n",
    "base_path = pathlib.Path(\"Exercise_2/sparkly-svm/src\")"
   ]
  },
  {
   "cell_type": "code",
   "execution_count": 15,
   "metadata": {},
   "outputs": [],
   "source": [
    "def create_spark_session():\n",
    "    \"\"\"\n",
    "    Setting up the Spark Session in cluster mode, managed by yarn. \n",
    "    5 Executors with each 4 cores and 4GB of RAM. \n",
    "    \"\"\"\n",
    "    conf = SparkConf() \\\n",
    "    .setAppName(\"svm\") \\\n",
    "    .setMaster(\"yarn\") \\\n",
    "    .set(\"spark.executor.memory\", \"4g\") \\\n",
    "    .set(\"spark.driver.memory\", \"4g\") \\\n",
    "    .set(\"spark.driver.maxResultSize\", \"2g\") \\\n",
    "    .set(\"spark.executor.instances\", \"5\") \\\n",
    "    .set(\"spark.executor.cores\", \"4\") \\\n",
    "    .set(\"spark.default.parallelism\", \"20\")\n",
    "\n",
    "    spark = SparkSession.builder.config(conf=conf).getOrCreate()\n",
    "    return spark"
   ]
  },
  {
   "cell_type": "code",
   "execution_count": 16,
   "metadata": {},
   "outputs": [],
   "source": [
    "DATA_PATH = \"hdfs:///user/dic24_shared/amazon-reviews/full/reviews_devset.json\"\n",
    "STOPWORD_PATH = base_path.parent/\"data/stopwords.txt\"\n",
    "OUTPUT_PATH = base_path.parent/\"data/output_ds.txt\"\n",
    "\n",
    "spark = create_spark_session()\n",
    "\n",
    "with open(STOPWORD_PATH, 'r') as file:\n",
    "    stopwords = file.read().splitlines()\n",
    "\n",
    "df = spark.read.json(str(DATA_PATH)).select(\"reviewText\", \"category\")\n",
    "regex = r'[ \\t\\d()\\[\\]{}.!?,;:+=\\-_\"\\'~#@&*%€$§\\/]+'"
   ]
  },
  {
   "cell_type": "code",
   "execution_count": 17,
   "metadata": {},
   "outputs": [
    {
     "name": "stdout",
     "output_type": "stream",
     "text": [
      "+--------------------+--------------------+--------------------+--------------------+--------------------+--------------------+-----+--------------------+\n",
      "|          reviewText|            category|            rawTerms|               terms|         rawFeatures|            features|label|    selectedFeatures|\n",
      "+--------------------+--------------------+--------------------+--------------------+--------------------+--------------------+-----+--------------------+\n",
      "|This was a gift f...|Patio_Lawn_and_Garde|[this, was, a, gi...|[gift, husband, m...|(96505,[2,3,7,8,3...|(96505,[2,3,7,8,3...| 18.0|(2000,[2,3,7,8,35...|\n",
      "|This is a very ni...|Patio_Lawn_and_Garde|[this, is, a, ver...|[nice, spreader, ...|(96505,[0,1,3,21,...|(96505,[0,1,3,21,...| 18.0|(2000,[0,1,3,21,3...|\n",
      "|The metal base wi...|Patio_Lawn_and_Garde|[the, metal, base...|[metal, base, hos...|(96505,[4,10,29,1...|(96505,[4,10,29,1...| 18.0|(2000,[4,10,174,3...|\n",
      "|For the most part...|Patio_Lawn_and_Garde|[for, the, most, ...|[part, works, pre...|(96505,[1,3,4,9,1...|(96505,[1,3,4,9,1...| 18.0|(2000,[1,3,4,9,10...|\n",
      "|This hose is supp...|Patio_Lawn_and_Garde|[this, hose, is, ...|[hose, supposed, ...|(96505,[12,32,42,...|(96505,[12,32,42,...| 18.0|(2000,[12,29,101,...|\n",
      "|This tool works v...|Patio_Lawn_and_Garde|[this, tool, work...|[tool, works, cut...|(96505,[0,3,4,8,1...|(96505,[0,3,4,8,1...| 18.0|(2000,[0,3,4,8,11...|\n",
      "|This product is a...|Patio_Lawn_and_Garde|[this, product, i...|[typical, usable,...|(96505,[18,63,122...|(96505,[18,63,122...| 18.0|(2000,[18,112,175...|\n",
      "|I was excited to ...|Patio_Lawn_and_Garde|[i, was, excited,...|[excited, ditch, ...|(96505,[6,21,35,3...|(96505,[6,21,35,3...| 18.0|(2000,[6,21,32,36...|\n",
      "|I purchased the L...|Patio_Lawn_and_Garde|[i, purchased, th...|[purchased, leaf,...|(96505,[3,4,5,6,4...|(96505,[3,4,5,6,4...| 18.0|(2000,[3,4,5,6,40...|\n",
      "|Never used a manu...|Patio_Lawn_and_Garde|[never, used, a, ...|[manual, lawnmowe...|(96505,[6,8,41,87...|(96505,[6,8,41,87...| 18.0|(2000,[6,8,38,78,...|\n",
      "|Good price. Good ...|Patio_Lawn_and_Garde|[good, price, goo...|[good, price, goo...|(96505,[1,13,95,2...|(96505,[1,13,95,2...| 18.0|(2000,[1,13,226],...|\n",
      "|I have owned the ...|Patio_Lawn_and_Garde|[i, have, owned, ...|[owned, flowtron,...|(96505,[5,17,36,4...|(96505,[5,17,36,4...| 18.0|(2000,[5,17,33,40...|\n",
      "|I had \"won\" a sim...|Patio_Lawn_and_Garde|[i, had, won, a, ...|[similar, family,...|(96505,[1,11,31,3...|(96505,[1,11,31,3...| 18.0|(2000,[1,11,28,35...|\n",
      "|The birds ate all...|Patio_Lawn_and_Garde|[the, birds, ate,...|[birds, ate, blue...|(96505,[44,160,28...|(96505,[44,160,28...| 18.0|(2000,[40,144,339...|\n",
      "|Bought last summe...|Patio_Lawn_and_Garde|[bought, last, su...|[bought, summer, ...|(96505,[0,3,7,9,1...|(96505,[0,3,7,9,1...| 18.0|(2000,[0,3,7,9,11...|\n",
      "|I knew I had a mo...|Patio_Lawn_and_Garde|[i, knew, i, had,...|[knew, mouse, bas...|(96505,[8,28,29,6...|(96505,[8,28,29,6...| 18.0|(2000,[8,26,57,80...|\n",
      "|I was a little wo...|Patio_Lawn_and_Garde|[i, was, a, littl...|[worried, reading...|(96505,[1,15,130,...|(96505,[1,15,130,...| 18.0|(2000,[1,15,120,1...|\n",
      "|I have used this ...|Patio_Lawn_and_Garde|[i, have, used, t...|[brand, long, tim...|(96505,[2,3,23,25...|(96505,[2,3,23,25...| 18.0|(2000,[2,3,221,26...|\n",
      "|I actually do not...|Patio_Lawn_and_Garde|[i, actually, do,...|[current, model, ...|(96505,[4,10,16,2...|(96505,[4,10,16,2...| 18.0|(2000,[4,10,16,20...|\n",
      "|Just what I  expe...|Patio_Lawn_and_Garde|[just, what, i, e...|[expected, works,...|(96505,[0,18,33,4...|(96505,[0,18,33,4...| 18.0|(2000,[0,18,30,42...|\n",
      "+--------------------+--------------------+--------------------+--------------------+--------------------+--------------------+-----+--------------------+\n",
      "only showing top 20 rows\n",
      "\n"
     ]
    }
   ],
   "source": [
    "stages = [\n",
    "    RegexTokenizer(inputCol=\"reviewText\", outputCol=\"rawTerms\", pattern=regex),\n",
    "    StopWordsRemover(inputCol=\"rawTerms\", outputCol=\"terms\", stopWords=stopwords),\n",
    "\n",
    "    CountVectorizer(inputCol=\"terms\", outputCol=\"rawFeatures\"),\n",
    "    IDF(inputCol=\"rawFeatures\", outputCol=\"features\"),\n",
    "\n",
    "    StringIndexer(inputCol=\"category\", outputCol=\"label\"),\n",
    "    ChiSqSelector(featuresCol=\"features\", outputCol=\"selectedFeatures\", labelCol=\"label\", numTopFeatures=2000),\n",
    "]\n",
    "\n",
    "pipeline = Pipeline(stages=stages)\n",
    "\n",
    "model = pipeline.fit(df)\n",
    "result = model.transform(df)\n",
    "result.show()"
   ]
  },
  {
   "cell_type": "code",
   "execution_count": 18,
   "metadata": {},
   "outputs": [
    {
     "name": "stdout",
     "output_type": "stream",
     "text": [
      "len(selection)=2000, len(cv_vocab)=96505, len(chisq_idx)=2000\n"
     ]
    }
   ],
   "source": [
    "# get all selected features through chisq index from vocabulary\n",
    "cv_model: CountVectorizerModel = model.stages[2] # type: ignore\n",
    "chisq_model: ChiSqSelector = model.stages[5] # type: ignore\n",
    "\n",
    "cv_vocab: list[str] = cv_model.vocabulary\n",
    "chisq_idx: list[int] = chisq_model.selectedFeatures # type: ignore\n",
    "\n",
    "selection: list[str] = sorted(set([cv_vocab[i] for i in chisq_idx]))\n",
    "\n",
    "print(f\"{len(selection)=}, {len(cv_vocab)=}, {len(chisq_idx)=}\")\n",
    "with open(OUTPUT_PATH, \"w\") as f:\n",
    "    f.write(\"\\n\".join(selection))\n",
    "\n",
    "spark.stop()"
   ]
  }
 ],
 "metadata": {
  "kernelspec": {
   "display_name": "Python 3 (DIC24)",
   "language": "python",
   "name": "python3_dic24"
  },
  "language_info": {
   "codemirror_mode": {
    "name": "ipython",
    "version": 3
   },
   "file_extension": ".py",
   "mimetype": "text/x-python",
   "name": "python",
   "nbconvert_exporter": "python",
   "pygments_lexer": "ipython3",
   "version": "3.9.18"
  }
 },
 "nbformat": 4,
 "nbformat_minor": 2
}
